{
 "cells": [
  {
   "cell_type": "markdown",
   "metadata": {},
   "source": [
    "# Fetisov\n",
    "## DataRoot University DS100 Test #3\n",
    "На проходження тесту виділяється 121 хвилина."
   ]
  },
  {
   "cell_type": "markdown",
   "metadata": {},
   "source": [
    "## SQL"
   ]
  },
  {
   "cell_type": "markdown",
   "metadata": {},
   "source": [
    "##### Відповідь до кожного завдання у цьому розділі записувати в наступну пусту строку в форматі sql запиту"
   ]
  },
  {
   "cell_type": "markdown",
   "metadata": {},
   "source": [
    "### Коротка інформація про базу даних \"Комп'ютерна фірма\":\n",
    "```\n",
    "Схема БД складається з чотирьох таблиць:\n",
    "- Product (maker, model, type)\n",
    "- PC (code, model, speed, ram, hd, cd, price)\n",
    "- Laptop (code, model, speed, ram, hd, price, screen)\n",
    "- Printer (code, model, color, type, price)\n",
    "```\n",
    "Таблиця Product представляє виробника (maker), номер моделі (model) і тип ('PC' - ПК, 'Laptop' - ПК-блокнот або 'Printer' - принтер). Передбачається, що номери моделей в таблиці Product унікальні для всіх виробників і типів продуктів.\n",
    "\n",
    "У таблиці PC для кожного ПК, який однозначно визначається унікальним кодом - code, вказані модель - model (зовнішній ключ до таблиці Product), швидкість - speed (процесора в мегагерцах), обсяг пам'яті - ram (в мегабайтах), розмір диска - hd (в гігабайтах), швидкість пристрою, що зчитує - cd (наприклад, '4x') і ціна - price.\n",
    "\n",
    "Таблиця Laptop аналогічна таблиці РС за винятком того, що замість швидкості CD містить розмір екрану - screen (в дюймах).\n",
    "\n",
    "У таблиці Printer для кожної моделі принтера вказується, чи є він кольоровим - color ( 'y', якщо кольоровий), тип принтера - type (лазерний - 'Laser', струменевий - 'Jet' або матричний - 'Matrix') і ціна - price.\n",
    "\n",
    "**Дамп**: **[computer_pg_script.sql](https://github.com/dataroot/DRU-DS100-w3/tree/master/tests/3/v1/computer_pg_script.sql)**."
   ]
  },
  {
   "cell_type": "markdown",
   "metadata": {
    "collapsed": true
   },
   "source": [
    "### 1. Знайдіть номер моделі, швидкість і розмір жорсткого диску для всіх ПК вартістю менше 500 дол. Вивести: model, speed і hd.\n",
    "```\n",
    "```\n",
    "Довідка по темі:\n",
    "* [Простий оператор SELECT](http://www.sql-tutorial.ru/ru/book_simple_select_statement/page1.html)\n",
    "```\n",
    "```\n",
    "```\n",
    "```\n",
    "```\n",
    "```\n",
    "```\n",
    "Максимальна оцінка: 1 бал\n",
    "Рекомендований час: 3хв\n",
    "```"
   ]
  },
  {
   "cell_type": "code",
   "execution_count": 1,
   "metadata": {},
   "outputs": [
    {
     "ename": "SyntaxError",
     "evalue": "invalid syntax (<ipython-input-1-ed7cada25801>, line 1)",
     "output_type": "error",
     "traceback": [
      "\u001b[0;36m  File \u001b[0;32m\"<ipython-input-1-ed7cada25801>\"\u001b[0;36m, line \u001b[0;32m1\u001b[0m\n\u001b[0;31m    SELECT model, speed, hd FROM pc WHERE price < 500;\u001b[0m\n\u001b[0m               ^\u001b[0m\n\u001b[0;31mSyntaxError\u001b[0m\u001b[0;31m:\u001b[0m invalid syntax\n"
     ]
    }
   ],
   "source": [
    "SELECT model, speed, hd FROM pc WHERE price < 500;"
   ]
  },
  {
   "cell_type": "markdown",
   "metadata": {},
   "source": [
    "### 2.  Знайдіть виробників принтерів. Вивести: maker.\n",
    "```\n",
    "```\n",
    "Довідка по темі:\n",
    "* [Простий оператор SELECT](http://www.sql-tutorial.ru/ru/book_simple_select_statement/page1.html)\n",
    "```\n",
    "```\n",
    "```\n",
    "```\n",
    "```\n",
    "```\n",
    "```\n",
    "Максимальна оцінка: 1 бал\n",
    "Рекомендований час: 3хв\n",
    "```"
   ]
  },
  {
   "cell_type": "code",
   "execution_count": null,
   "metadata": {
    "collapsed": true
   },
   "outputs": [],
   "source": [
    "SELECT maker FROM product WHERE type = \"Printer\";"
   ]
  },
  {
   "cell_type": "markdown",
   "metadata": {},
   "source": [
    "### 3. Знайдіть номер моделі, об'єм пам'яті і розміри екранів ПК-блокнотів, ціна яких перевищує 1000 дол.\n",
    "```\n",
    "```\n",
    "Довідка по темі:\n",
    "* [Простий оператор SELECT](http://www.sql-tutorial.ru/ru/book_simple_select_statement/page1.html)\n",
    "```\n",
    "```\n",
    "```\n",
    "```\n",
    "```\n",
    "```\n",
    "```\n",
    "Максимальна оцінка: 1 бал\n",
    "Рекомендований час: 3хв\n",
    "```"
   ]
  },
  {
   "cell_type": "code",
   "execution_count": null,
   "metadata": {
    "collapsed": true
   },
   "outputs": [],
   "source": [
    "SELECT model, ram, screen FROM Laptop WHERE price > 1000;"
   ]
  },
  {
   "cell_type": "markdown",
   "metadata": {},
   "source": [
    "### 4. Знайдіть всі записи таблиці Printer для кольорових принтерів.\n",
    "```\n",
    "```\n",
    "Довідка по темі:\n",
    "* [Простий оператор SELECT](http://www.sql-tutorial.ru/ru/book_simple_select_statement/page1.html)\n",
    "```\n",
    "```\n",
    "```\n",
    "```\n",
    "```\n",
    "```\n",
    "```\n",
    "Максимальна оцінка: 1 бал\n",
    "Рекомендований час: 3хв\n",
    "```"
   ]
  },
  {
   "cell_type": "code",
   "execution_count": 2,
   "metadata": {},
   "outputs": [
    {
     "ename": "NameError",
     "evalue": "name 'y' is not defined",
     "output_type": "error",
     "traceback": [
      "\u001b[0;31m---------------------------------------------------------------------------\u001b[0m",
      "\u001b[0;31mNameError\u001b[0m                                 Traceback (most recent call last)",
      "\u001b[0;32m<ipython-input-2-33418d6c8b70>\u001b[0m in \u001b[0;36m<module>\u001b[0;34m()\u001b[0m\n\u001b[0;32m----> 1\u001b[0;31m \u001b[0;36m2\u001b[0m \u001b[0;34m|\u001b[0m \u001b[0;36m1433\u001b[0m  \u001b[0;34m|\u001b[0m \u001b[0my\u001b[0m     \u001b[0;34m|\u001b[0m \u001b[0mJet\u001b[0m    \u001b[0;34m|\u001b[0m \u001b[0;36m270.00\u001b[0m\u001b[0;34m\u001b[0m\u001b[0m\n\u001b[0m\u001b[1;32m      2\u001b[0m \u001b[0;36m3\u001b[0m \u001b[0;34m|\u001b[0m \u001b[0;36m1434\u001b[0m  \u001b[0;34m|\u001b[0m \u001b[0my\u001b[0m     \u001b[0;34m|\u001b[0m \u001b[0mJet\u001b[0m    \u001b[0;34m|\u001b[0m \u001b[0;36m290.00\u001b[0m\u001b[0;34m\u001b[0m\u001b[0m\n",
      "\u001b[0;31mNameError\u001b[0m: name 'y' is not defined"
     ]
    }
   ],
   "source": [
    "SELECT * FROM printer WHERE color = 'y';"
   ]
  },
  {
   "cell_type": "markdown",
   "metadata": {},
   "source": [
    "### 5. Знайдіть номер моделі, швидкість і розмір жорсткого диску ПК, що мають 12x або 24x CD і ціну менше, ніж 600 дол.\n",
    "```\n",
    "```\n",
    "Довідка по темі:\n",
    "* [Простий оператор SELECT](http://www.sql-tutorial.ru/ru/book_simple_select_statement/page1.html)\n",
    "* [Предикати (ч.1)](http://www.sql-tutorial.ru/ru/book_predicates_1.html)\n",
    "```\n",
    "```\n",
    "```\n",
    "```\n",
    "```\n",
    "```\n",
    "```\n",
    "Максимальна оцінка: 1 бал\n",
    "Рекомендований час: 3хв\n",
    "```"
   ]
  },
  {
   "cell_type": "code",
   "execution_count": 3,
   "metadata": {},
   "outputs": [
    {
     "data": {
      "text/plain": [
       "1534"
      ]
     },
     "execution_count": 3,
     "metadata": {},
     "output_type": "execute_result"
    }
   ],
   "source": [
    "SELECT model, speed, hd FROM PC WHERE price < 600 AND (cd = '12x' OR cd = '24x');"
   ]
  },
  {
   "cell_type": "markdown",
   "metadata": {},
   "source": [
    "### 6. Для кожного виробника, що випускає ПК-блокноти з об'ємом жорсткого диску не менше 10 Гбайт, знайти швидкості таких ПК-блокнотів. Вивід: виробник, швидкість.\n",
    "```\n",
    "```\n",
    "Довідка по темі:\n",
    "* [Простий оператор SELECT](http://www.sql-tutorial.ru/ru/book_simple_select_statement/page1.html)\n",
    "* [Явні операції з'єднання](http://www.sql-tutorial.ru/ru/book_explicit_join_operations.html)\n",
    "```\n",
    "```\n",
    "```\n",
    "```\n",
    "```\n",
    "```\n",
    "```\n",
    "Максимальна оцінка: 2 бали\n",
    "Рекомендований час: 6хв\n",
    "```"
   ]
  },
  {
   "cell_type": "code",
   "execution_count": 4,
   "metadata": {},
   "outputs": [
    {
     "ename": "NameError",
     "evalue": "name 'B' is not defined",
     "output_type": "error",
     "traceback": [
      "\u001b[0;31m---------------------------------------------------------------------------\u001b[0m",
      "\u001b[0;31mNameError\u001b[0m                                 Traceback (most recent call last)",
      "\u001b[0;32m<ipython-input-4-aff4312471c6>\u001b[0m in \u001b[0;36m<module>\u001b[0;34m()\u001b[0m\n\u001b[0;32m----> 1\u001b[0;31m \u001b[0mB\u001b[0m     \u001b[0;34m|\u001b[0m   \u001b[0;36m750\u001b[0m\u001b[0;34m\u001b[0m\u001b[0m\n\u001b[0m\u001b[1;32m      2\u001b[0m \u001b[0mA\u001b[0m     \u001b[0;34m|\u001b[0m   \u001b[0;36m600\u001b[0m\u001b[0;34m\u001b[0m\u001b[0m\n\u001b[1;32m      3\u001b[0m \u001b[0mA\u001b[0m     \u001b[0;34m|\u001b[0m   \u001b[0;36m750\u001b[0m\u001b[0;34m\u001b[0m\u001b[0m\n\u001b[1;32m      4\u001b[0m \u001b[0mA\u001b[0m     \u001b[0;34m|\u001b[0m   \u001b[0;36m450\u001b[0m\u001b[0;34m\u001b[0m\u001b[0m\n",
      "\u001b[0;31mNameError\u001b[0m: name 'B' is not defined"
     ]
    }
   ],
   "source": [
    "SELECT product.maker, laptop.speed FROM product INNER JOIN laptop ON product.model = laptop.model WHERE laptop.hd >= 10;\n"
   ]
  },
  {
   "cell_type": "markdown",
   "metadata": {
    "collapsed": true
   },
   "source": [
    "### 7. Знайдіть номери моделей і ціни всіх наявних у продажі продуктів (будь-якого типу) виробника B (латинська буква).\n",
    "```\n",
    "```\n",
    "Довідка по темі:\n",
    "* [Об'єднання](http://www.sql-tutorial.ru/ru/book_union.html)\n",
    "* [Явні операції з'єднання](http://www.sql-tutorial.ru/ru/book_explicit_join_operations.html)\n",
    "```\n",
    "```\n",
    "```\n",
    "```\n",
    "```\n",
    "```\n",
    "```\n",
    "Максимальна оцінка: 2 бали\n",
    "Рекомендований час: 6хв\n",
    "```"
   ]
  },
  {
   "cell_type": "code",
   "execution_count": null,
   "metadata": {
    "collapsed": true
   },
   "outputs": [],
   "source": [
    "SELECT product.model, PC.price FROM product INNER JOIN pc ON product.model = pc.model WHERE product.maker = 'B';\n",
    "SELECT product.model, laptop.price FROM product INNER JOIN laptop ON product.model = laptop.model WHERE product.maker = 'B';\n",
    "SELECT product.model, printer.price FROM product INNER JOIN printer ON product.model = printer.model WHERE product.maker = 'B';"
   ]
  },
  {
   "cell_type": "markdown",
   "metadata": {},
   "source": [
    "### 8. Знайдіть виробника, що випускає ПК, але не ПК-блокноти.\n",
    "```\n",
    "```\n",
    "Довідка по темі:\n",
    "* [Об'єднання](http://www.sql-tutorial.ru/ru/book_union.html)\n",
    "* [Явні операції з'єднання](http://www.sql-tutorial.ru/ru/book_explicit_join_operations.html)\n",
    "```\n",
    "```\n",
    "```\n",
    "```\n",
    "```\n",
    "```\n",
    "```\n",
    "Максимальна оцінка: 2 бали\n",
    "Рекомендований час: 6хв\n",
    "```"
   ]
  },
  {
   "cell_type": "code",
   "execution_count": 12,
   "metadata": {},
   "outputs": [
    {
     "ename": "SyntaxError",
     "evalue": "invalid syntax (<ipython-input-12-7b88290446d3>, line 1)",
     "output_type": "error",
     "traceback": [
      "\u001b[0;36m  File \u001b[0;32m\"<ipython-input-12-7b88290446d3>\"\u001b[0;36m, line \u001b[0;32m1\u001b[0m\n\u001b[0;31m    SELECT product.maker FROM product INNER JOIN pc ON product.model = pc.model WHERE product.maker NOT IN (SELECT product.maker FROM product INNER JOIN laptop ON product.model = laptop.model);\u001b[0m\n\u001b[0m                 ^\u001b[0m\n\u001b[0;31mSyntaxError\u001b[0m\u001b[0;31m:\u001b[0m invalid syntax\n"
     ]
    }
   ],
   "source": [
    "SELECT product.maker FROM product INNER JOIN pc ON product.model = pc.model WHERE product.maker NOT IN (SELECT product.maker FROM product INNER JOIN laptop ON product.model = laptop.model);"
   ]
  },
  {
   "cell_type": "markdown",
   "metadata": {},
   "source": [
    "### 9. Знайдіть виробників ПК з процесором не менше 450 Мгц. Вивести: Maker.\n",
    "```\n",
    "```\n",
    "Довідка по темі:\n",
    "* [Простий оператор SELECT](http://www.sql-tutorial.ru/ru/book_simple_select_statement/page1.html)\n",
    "* [Явні операції з'єднання](http://www.sql-tutorial.ru/ru/book_explicit_join_operations.html)\n",
    "```\n",
    "```\n",
    "```\n",
    "```\n",
    "```\n",
    "```\n",
    "```\n",
    "Максимальна оцінка: 1 бал\n",
    "Рекомендований час: 3хв\n",
    "```"
   ]
  },
  {
   "cell_type": "code",
   "execution_count": null,
   "metadata": {
    "collapsed": true
   },
   "outputs": [],
   "source": [
    "SELECT product.maker FROM product INNER  JOIN pc ON product.model = pc.model WHERE pc.speed >= '450';"
   ]
  },
  {
   "cell_type": "markdown",
   "metadata": {},
   "source": [
    "### 10. Знайдіть моделі принтерів, що мають найвищу ціну. Вивести: model, price.\n",
    "```\n",
    "```\n",
    "Довідка по темі:\n",
    "* [Підзапити](http://www.sql-tutorial.ru/ru/book_subqueries.html)\n",
    "* [Отримання підсумкових значень](http://www.sql-tutorial.ru/ru/book_getting_summarizing_values.html)\n",
    "```\n",
    "```\n",
    "```\n",
    "```\n",
    "```\n",
    "```\n",
    "```\n",
    "Максимальна оцінка: 1 бали\n",
    "Рекомендований час: 3хв\n",
    "```"
   ]
  },
  {
   "cell_type": "code",
   "execution_count": null,
   "metadata": {
    "collapsed": true
   },
   "outputs": [],
   "source": [
    "SELECT product.model, printer.price FROM product RIGHT JOIN printer ON product.model = printer.model ORDER BY price DESC LIMIT 2; "
   ]
  },
  {
   "cell_type": "markdown",
   "metadata": {},
   "source": [
    "### 11. Знайдіть середню швидкість ПК.\n",
    "```\n",
    "```\n",
    "Довідка по темі:\n",
    "* [Отримання підсумкових значень](http://www.sql-tutorial.ru/ru/book_getting_summarizing_values.html)\n",
    "```\n",
    "```\n",
    "```\n",
    "```\n",
    "```\n",
    "```\n",
    "```\n",
    "Максимальна оцінка: 1 бал\n",
    "Рекомендований час: 3хв\n",
    "```"
   ]
  },
  {
   "cell_type": "code",
   "execution_count": 5,
   "metadata": {},
   "outputs": [
    {
     "data": {
      "text/plain": [
       "608.3333333333334"
      ]
     },
     "execution_count": 5,
     "metadata": {},
     "output_type": "execute_result"
    }
   ],
   "source": [
    "SELECT AVG(pc.speed) FROM pc;\n"
   ]
  },
  {
   "cell_type": "markdown",
   "metadata": {},
   "source": [
    "### 12. Знайдіть середню швидкість ПК-блокнотів, ціна яких перевищує 1000 дол.\n",
    "```\n",
    "```\n",
    "Довідка по темі:\n",
    "* [Отримання підсумкових значень](http://www.sql-tutorial.ru/ru/book_getting_summarizing_values.html)\n",
    "```\n",
    "```\n",
    "```\n",
    "```\n",
    "```\n",
    "```\n",
    "```\n",
    "Максимальна оцінка: 1 бал\n",
    "Рекомендований час: 3хв\n",
    "```"
   ]
  },
  {
   "cell_type": "code",
   "execution_count": 6,
   "metadata": {},
   "outputs": [
    {
     "data": {
      "text/plain": [
       "700"
      ]
     },
     "execution_count": 6,
     "metadata": {},
     "output_type": "execute_result"
    }
   ],
   "source": [
    "SELECT AVG(speed) FROM laptop WHERE price > 1000;\n"
   ]
  },
  {
   "cell_type": "markdown",
   "metadata": {},
   "source": [
    "### 13. Знайдіть середню швидкість ПК, випущених виробником A.\n",
    "```\n",
    "```\n",
    "Довідка по темі:\n",
    "* [Отримання підсумкових значень](http://www.sql-tutorial.ru/ru/book_getting_summarizing_values.html)\n",
    "* [Явні операції з'єднання](http://www.sql-tutorial.ru/ru/book_explicit_join_operations.html)\n",
    "```\n",
    "```\n",
    "```\n",
    "```\n",
    "```\n",
    "```\n",
    "```\n",
    "Максимальна оцінка: 1 бал\n",
    "Рекомендований час: 3хв\n",
    "```"
   ]
  },
  {
   "cell_type": "code",
   "execution_count": null,
   "metadata": {
    "collapsed": true
   },
   "outputs": [],
   "source": [
    "SELECT AVG(pc.speed) FROM pc LEFT JOIN product ON pc.model = product.model WHERE product.maker = 'A';\n"
   ]
  },
  {
   "cell_type": "markdown",
   "metadata": {},
   "source": [
    "### 14. Знайти виробників, які випускають більше однієї моделі, при цьому всі випущені виробником моделі є продуктами одного типу. Вивести: maker, type.\n",
    "```\n",
    "```\n",
    "Довідка по темі:\n",
    "* [Отримання підсумкових значень](http://www.sql-tutorial.ru/ru/book_getting_summarizing_values.html)\n",
    "* [Конструкція GROUP BY](http://www.sql-tutorial.ru/ru/book_group_by_clause.html)\n",
    "* [Конструкція HAVING](http://www.sql-tutorial.ru/ru/book_having_clause.html)\n",
    "```\n",
    "```\n",
    "```\n",
    "```\n",
    "```\n",
    "```\n",
    "```\n",
    "Максимальна оцінка: 3 бали\n",
    "Рекомендований час: 9хв\n",
    "```"
   ]
  },
  {
   "cell_type": "code",
   "execution_count": 7,
   "metadata": {},
   "outputs": [
    {
     "ename": "NameError",
     "evalue": "name 'D' is not defined",
     "output_type": "error",
     "traceback": [
      "\u001b[0;31m---------------------------------------------------------------------------\u001b[0m",
      "\u001b[0;31mNameError\u001b[0m                                 Traceback (most recent call last)",
      "\u001b[0;32m<ipython-input-7-07f178fef64d>\u001b[0m in \u001b[0;36m<module>\u001b[0;34m()\u001b[0m\n\u001b[0;32m----> 1\u001b[0;31m \u001b[0mD\u001b[0m     \u001b[0;34m|\u001b[0m \u001b[0mPrinter\u001b[0m\u001b[0;34m\u001b[0m\u001b[0m\n\u001b[0m\u001b[1;32m      2\u001b[0m \u001b[0mE\u001b[0m     \u001b[0;34m|\u001b[0m \u001b[0mPC\u001b[0m\u001b[0;34m\u001b[0m\u001b[0m\n\u001b[1;32m      3\u001b[0m \u001b[0mB\u001b[0m     \u001b[0;34m|\u001b[0m \u001b[0mPC\u001b[0m\u001b[0;34m\u001b[0m\u001b[0m\n",
      "\u001b[0;31mNameError\u001b[0m: name 'D' is not defined"
     ]
    }
   ],
   "source": [
    "SELECT DISTINCT product.maker, product.type FROM product LEFT JOIN pc ON product.model = pc.model LEFT JOIN laptop ON product.model = laptop.model LEFT JOIN printer ON product.model = printer.model GROUP BY product.maker, product.type HAVING count(*) > 1;\n",
    "\n",
    "\n",
    "D     | Printer\n",
    " E     | PC\n",
    " B     | PC"
   ]
  },
  {
   "cell_type": "markdown",
   "metadata": {},
   "source": [
    "### 15. Знайдіть розміри жорстких дисків, які співпадають у двох і більше PC. Вивести: HD.\n",
    "```\n",
    "```\n",
    "Довідка по темі:\n",
    "* [Конструкція GROUP BY](http://www.sql-tutorial.ru/ru/book_group_by_clause.html)\n",
    "* [Конструкція HAVING](http://www.sql-tutorial.ru/ru/book_having_clause.html)\n",
    "```\n",
    "```\n",
    "```\n",
    "```\n",
    "```\n",
    "```\n",
    "```\n",
    "Максимальна оцінка: 1 бал\n",
    "Рекомендований час: 3хв\n",
    "```"
   ]
  },
  {
   "cell_type": "code",
   "execution_count": 8,
   "metadata": {},
   "outputs": [
    {
     "ename": "IndentationError",
     "evalue": "unexpected indent (<ipython-input-8-62e74bba50b3>, line 2)",
     "output_type": "error",
     "traceback": [
      "\u001b[0;36m  File \u001b[0;32m\"<ipython-input-8-62e74bba50b3>\"\u001b[0;36m, line \u001b[0;32m2\u001b[0m\n\u001b[0;31m    8\u001b[0m\n\u001b[0m    ^\u001b[0m\n\u001b[0;31mIndentationError\u001b[0m\u001b[0;31m:\u001b[0m unexpected indent\n"
     ]
    }
   ],
   "source": [
    "SELECT hd FROM pc GROUP BY hd HAVING count(*) > 1;\n"
   ]
  },
  {
   "cell_type": "markdown",
   "metadata": {},
   "source": [
    "### 16. Знайдіть пари моделей PC, що мають однакові швидкість і RAM. В результаті кожна пара вказується тільки один раз, тобто (i, j), але не (j, i), Порядок виведення: модель з більшим номером, модель з меншим номером, швидкість і RAM.\n",
    "```\n",
    "```\n",
    "Довідка по темі:\n",
    "* [Використання в запиті декількох джерел записів](http://www.sql-tutorial.ru/ru/book_using_multiple_tables_in_query.html)\n",
    "```\n",
    "```\n",
    "```\n",
    "```\n",
    "```\n",
    "```\n",
    "```\n",
    "Максимальна оцінка: 2 бали\n",
    "Рекомендований час: 6хв\n",
    "```"
   ]
  },
  {
   "cell_type": "code",
   "execution_count": 9,
   "metadata": {},
   "outputs": [
    {
     "ename": "SyntaxError",
     "evalue": "invalid syntax (<ipython-input-9-887733c96729>, line 1)",
     "output_type": "error",
     "traceback": [
      "\u001b[0;36m  File \u001b[0;32m\"<ipython-input-9-887733c96729>\"\u001b[0;36m, line \u001b[0;32m1\u001b[0m\n\u001b[0;31m    SELECT DISTINCT model, speed, ram FROM pc WHERE pc.speed = pc.speed AND pc.ram = pc.ram;\u001b[0m\n\u001b[0m                  ^\u001b[0m\n\u001b[0;31mSyntaxError\u001b[0m\u001b[0;31m:\u001b[0m invalid syntax\n"
     ]
    }
   ],
   "source": [
    "select t1.model, t2.model, t1.speed, t2.ram from pc t1 inner join pc t2 on (t1.speed = t2.speed and t1.ram = t2.ram) where t1.model > t2.model;"
   ]
  },
  {
   "cell_type": "markdown",
   "metadata": {},
   "source": [
    "### 17. Знайдіть моделі ПК-блокнотів, швидкість яких менше швидкості будь-якого з ПК. Вивести: type, model, speed.\n",
    "```\n",
    "```\n",
    "Довідка по темі:\n",
    "* [Використання в запиті декількох джерел записів](http://www.sql-tutorial.ru/ru/book_using_multiple_tables_in_query.html)\n",
    "* [Використання ключових слів SOME (ANY) і ALL з предикатами порівняння](http://www.sql-tutorial.ru/ru/book_using_any_all_keywords_with_comparison_predicates.html)\n",
    "```\n",
    "```\n",
    "```\n",
    "```\n",
    "```\n",
    "```\n",
    "```\n",
    "Максимальна оцінка: 2 бали\n",
    "Рекомендований час: 6хв\n",
    "```"
   ]
  },
  {
   "cell_type": "code",
   "execution_count": 10,
   "metadata": {},
   "outputs": [
    {
     "ename": "NameError",
     "evalue": "name 'Laptop' is not defined",
     "output_type": "error",
     "traceback": [
      "\u001b[0;31m---------------------------------------------------------------------------\u001b[0m",
      "\u001b[0;31mNameError\u001b[0m                                 Traceback (most recent call last)",
      "\u001b[0;32m<ipython-input-10-bdbc994acee1>\u001b[0m in \u001b[0;36m<module>\u001b[0;34m()\u001b[0m\n\u001b[0;32m----> 1\u001b[0;31m \u001b[0mLaptop\u001b[0m \u001b[0;34m|\u001b[0m \u001b[0;36m1298\u001b[0m  \u001b[0;34m|\u001b[0m   \u001b[0;36m350\u001b[0m\u001b[0;34m\u001b[0m\u001b[0m\n\u001b[0m\u001b[1;32m      2\u001b[0m \u001b[0mLaptop\u001b[0m \u001b[0;34m|\u001b[0m \u001b[0;36m1321\u001b[0m  \u001b[0;34m|\u001b[0m   \u001b[0;36m500\u001b[0m\u001b[0;34m\u001b[0m\u001b[0m\n\u001b[1;32m      3\u001b[0m \u001b[0mLaptop\u001b[0m \u001b[0;34m|\u001b[0m \u001b[0;36m1750\u001b[0m  \u001b[0;34m|\u001b[0m   \u001b[0;36m750\u001b[0m\u001b[0;34m\u001b[0m\u001b[0m\n\u001b[1;32m      4\u001b[0m \u001b[0mLaptop\u001b[0m \u001b[0;34m|\u001b[0m \u001b[0;36m1298\u001b[0m  \u001b[0;34m|\u001b[0m   \u001b[0;36m600\u001b[0m\u001b[0;34m\u001b[0m\u001b[0m\n\u001b[1;32m      5\u001b[0m \u001b[0mLaptop\u001b[0m \u001b[0;34m|\u001b[0m \u001b[0;36m1752\u001b[0m  \u001b[0;34m|\u001b[0m   \u001b[0;36m750\u001b[0m\u001b[0;34m\u001b[0m\u001b[0m\n",
      "\u001b[0;31mNameError\u001b[0m: name 'Laptop' is not defined"
     ]
    }
   ],
   "source": [
    "SELECT product.type, laptop.model, laptop.speed FROM laptop LEFT JOIN product ON laptop.model = product.model WHERE laptop.speed < ANY (SELECT speed FROM pc);\n",
    "\n",
    "Laptop | 1298  |   350\n",
    " Laptop | 1321  |   500\n",
    " Laptop | 1750  |   750\n",
    " Laptop | 1298  |   600\n",
    " Laptop | 1752  |   750\n",
    " Laptop | 1298  |   450"
   ]
  },
  {
   "cell_type": "markdown",
   "metadata": {},
   "source": [
    "### 18. Знайдіть виробників найдешевших кольорових принтерів. Вивести: maker, price.\n",
    "```\n",
    "```\n",
    "Довідка по темі:\n",
    "* [Явні операції з'єднання](http://www.sql-tutorial.ru/ru/book_explicit_join_operations.html)\n",
    "* [Отримання підсумкових значень](http://www.sql-tutorial.ru/ru/book_getting_summarizing_values.html)\n",
    "* [Підзапити](http://www.sql-tutorial.ru/ru/book_subqueries.html)\n",
    "```\n",
    "```\n",
    "```\n",
    "```\n",
    "```\n",
    "```\n",
    "```\n",
    "Максимальна оцінка: 2 бали\n",
    "Рекомендований час: 6хв\n",
    "```"
   ]
  },
  {
   "cell_type": "code",
   "execution_count": 11,
   "metadata": {},
   "outputs": [
    {
     "ename": "NameError",
     "evalue": "name 'D' is not defined",
     "output_type": "error",
     "traceback": [
      "\u001b[0;31m---------------------------------------------------------------------------\u001b[0m",
      "\u001b[0;31mNameError\u001b[0m                                 Traceback (most recent call last)",
      "\u001b[0;32m<ipython-input-11-01a5012fe6cc>\u001b[0m in \u001b[0;36m<module>\u001b[0;34m()\u001b[0m\n\u001b[0;32m----> 1\u001b[0;31m \u001b[0mD\u001b[0m     \u001b[0;34m|\u001b[0m \u001b[0;36m270.00\u001b[0m\u001b[0;34m\u001b[0m\u001b[0m\n\u001b[0m\u001b[1;32m      2\u001b[0m \u001b[0mE\u001b[0m     \u001b[0;34m|\u001b[0m \u001b[0;36m290.00\u001b[0m\u001b[0;34m\u001b[0m\u001b[0m\n",
      "\u001b[0;31mNameError\u001b[0m: name 'D' is not defined"
     ]
    }
   ],
   "source": [
    "SELECT product.maker, printer.price FROM printer INNER JOIN product ON printer.model = product.model WHERE printer.color = 'y' ORDER BY printer.price;\n",
    " \n",
    "D     | 270.00\n",
    " E     | 290.00"
   ]
  },
  {
   "cell_type": "markdown",
   "metadata": {},
   "source": [
    "### 19. Для кожного виробника, що має моделі в таблиці Laptop, знайдіть середній розмір екрану ПК-блокнотів, які випускаються кожним з таких виробників. Вивести: maker, середній розмір екрану.\n",
    "```\n",
    "```\n",
    "Довідка по темі:\n",
    "* [Конструкція GROUP BY](http://www.sql-tutorial.ru/ru/book_group_by_clause.html)\n",
    "* [Явні операції з'єднання](http://www.sql-tutorial.ru/ru/book_explicit_join_operations.html)\n",
    "```\n",
    "```\n",
    "```\n",
    "```\n",
    "```\n",
    "```\n",
    "```\n",
    "Максимальна оцінка: 1 бали\n",
    "Рекомендований час: 3хв\n",
    "```"
   ]
  },
  {
   "cell_type": "code",
   "execution_count": null,
   "metadata": {
    "collapsed": true
   },
   "outputs": [],
   "source": [
    "SELECT product.maker, AVG(laptop.screen) FROM laptop INNER JOIN product ON laptop.model = product.model GROUP BY product.maker;\n",
    " A     | 13.0000000000000000\n",
    " C     | 12.0000000000000000\n",
    " B     | 14.0000000000000000\n"
   ]
  },
  {
   "cell_type": "markdown",
   "metadata": {},
   "source": [
    "### 20. Знайти округлене до сотих часток середнє арифметичне наступних цін:\n",
    "1. Ціна найдешевших Laptop-ів від виробників РС з найнижчою швидкістю CD;\n",
    "2. Ціна найдорожчих РС від виробників найдешевших принтерів;\n",
    "3. Ціна найдорожчих принтерів від виробників Laptop-ів з найбільшим обсягом пам'яті.\n",
    "Зауваження: При розрахунку середнього відсутні ціни не враховувати.\n",
    "\n",
    "\n",
    "  · Довідка по темі:\n",
    "     Явні операції з'єднання\n",
    "     предикат IN\n",
    "     Отримання підсумкових значень\n",
    "     підзапити\n",
    "     Використання ключових слів ANY, ALL з предикатами порівняння\n",
    "```\n",
    "```\n",
    "Довідка по темі:\n",
    "* [Явні операції з'єднання](http://www.sql-tutorial.ru/ru/book_explicit_join_operations.html)\n",
    "* [Предикат IN](http://www.sql-tutorial.ru/ru/book_predicate_in.html)\n",
    "* [Отримання підсумкових значень](http://www.sql-tutorial.ru/ru/book_getting_summarizing_values.html)\n",
    "* [Підзапити](http://www.sql-tutorial.ru/ru/book_subqueries.html)\n",
    "* [Використання ключових слів SOME (ANY) і ALL з предикатами порівняння](http://www.sql-tutorial.ru/ru/book_using_any_all_keywords_with_comparison_predicates.html)\n",
    "```\n",
    "```\n",
    "```\n",
    "```\n",
    "```\n",
    "```\n",
    "```\n",
    "Максимальна оцінка: 5 балів\n",
    "Рекомендований час: 15хв\n",
    "```"
   ]
  },
  {
   "cell_type": "code",
   "execution_count": null,
   "metadata": {
    "collapsed": true
   },
   "outputs": [],
   "source": [
    "SELECT ROUND(laptop.price, 2) FROM product INNER JOIN laptop ON product.model = laptop.model WHERE product.maker IN (SELECT product.maker FROM product INNER JOIN pc ON product.model = pc.model ORDER BY cd LIMIT 3) ORDER BY laptop.price;\n",
    "  700.00\n",
    "  950.00\n",
    "\n",
    "SELECT ROUND(pc.price, 2) FROM pc INNER JOIN product ON pc.model = product.model WHERE product.maker IN (SELECT product.maker FROM product INNER JOIN printer ON product.model = printer.model ORDER BY printer.price LIMIT 3) ORDER BY pc.price DESC LIMIT 3;\n",
    " 980.00\n",
    " 970.00\n",
    " 950.00\n",
    "\n",
    "SELECT ROUND(printer.price, 2) FROM printer INNER JOIN product ON printer.model = product.model WHERE product.maker IN (SELECT product.maker FROM product INNER JOIN laptop ON product.model = laptop.model ORDER BY ram DESC LIMIT 3) ORDER BY printer.price DESC LIMIT 3;\n",
    " 400.00\n",
    " 270.00\n",
    " 150.00\n"
   ]
  },
  {
   "cell_type": "markdown",
   "metadata": {
    "collapsed": true
   },
   "source": [
    "## NoSQL"
   ]
  },
  {
   "cell_type": "markdown",
   "metadata": {},
   "source": [
    "##### Відповідь до кожного завдання у цьому розділі записувати в наступну пусту строку в форматі MongoDB NoSQL запиту. Тобто: \n",
    "```\n",
    "db.[collection_name].[action](query_params, ..).\n",
    "```"
   ]
  },
  {
   "cell_type": "markdown",
   "metadata": {},
   "source": [
    "Структура документу в колекції restaurants:\n",
    "```\n",
    "{\n",
    "  \"address\": {\n",
    "     \"building\": \"1007\",\n",
    "     \"coord\": [ -73.856077, 40.848447 ],\n",
    "     \"street\": \"Morris Park Ave\",\n",
    "     \"zipcode\": \"10462\"\n",
    "  },\n",
    "  \"borough\": \"Bronx\",\n",
    "  \"cuisine\": \"Bakery\",\n",
    "  \"grades\": [\n",
    "     { \"date\": { \"$date\": 1393804800000 }, \"grade\": \"A\", \"score\": 2 },\n",
    "     { \"date\": { \"$date\": 1378857600000 }, \"grade\": \"A\", \"score\": 6 },\n",
    "     { \"date\": { \"$date\": 1358985600000 }, \"grade\": \"A\", \"score\": 10 },\n",
    "     { \"date\": { \"$date\": 1322006400000 }, \"grade\": \"A\", \"score\": 9 },\n",
    "     { \"date\": { \"$date\": 1299715200000 }, \"grade\": \"B\", \"score\": 14 }\n",
    "  ],\n",
    "  \"name\": \"Morris Park Bake Shop\",\n",
    "  \"restaurant_id\": \"30075445\"\n",
    "}\n",
    "```\n",
    "\n",
    "**Дамп: [restaurants.json](https://github.com/dataroot/DRU-DS100-w3/tree/master/tests/3/v1/restaurants.json)**.\n",
    "\n",
    "Приклад:\n",
    "```\n",
    "Питання:\n",
    "Напишіть запит MongoDB, щоб відобразити всі документи в колекції restaurants.\n",
    "```\n",
    "```\n",
    "Відповідь:\n",
    "db.restaurants.find();\n",
    "```"
   ]
  },
  {
   "cell_type": "markdown",
   "metadata": {
    "collapsed": true
   },
   "source": [
    "### 21. Напишіть запит MongoDB, щоб відобразити поля restaurant_id, name, borough та cuisine, але виключіть поле _id для всіх документів в колекції restaurants.\n",
    "```\n",
    "```\n",
    "```\n",
    "```\n",
    "```\n",
    "```\n",
    "```\n",
    "Максимальна оцінка: 1 бал\n",
    "Рекомендований час: 3хв\n",
    "```"
   ]
  },
  {
   "cell_type": "code",
   "execution_count": null,
   "metadata": {
    "collapsed": true
   },
   "outputs": [],
   "source": []
  },
  {
   "cell_type": "markdown",
   "metadata": {},
   "source": [
    "### 22. Напишіть запит MongoDB, щоб знайти ресторани, які досягли балів, більше 80, але менше 100.\n",
    "```\n",
    "```\n",
    "```\n",
    "```\n",
    "```\n",
    "```\n",
    "```\n",
    "Максимальна оцінка: 2 бали\n",
    "Рекомендований час: 6хв\n",
    "```"
   ]
  },
  {
   "cell_type": "code",
   "execution_count": null,
   "metadata": {
    "collapsed": true
   },
   "outputs": [],
   "source": []
  },
  {
   "cell_type": "markdown",
   "metadata": {},
   "source": [
    "### 23. Напишіть запит MongoDB, щоб знайти ресторани, що належать до району Bronx, та готують американську або китайську страви.\n",
    "```\n",
    "```\n",
    "```\n",
    "```\n",
    "```\n",
    "```\n",
    "```\n",
    "Максимальна оцінка: 2 бали\n",
    "Рекомендований час: 6хв\n",
    "```"
   ]
  },
  {
   "cell_type": "code",
   "execution_count": null,
   "metadata": {
    "collapsed": true
   },
   "outputs": [],
   "source": []
  },
  {
   "cell_type": "markdown",
   "metadata": {},
   "source": [
    "### 24. Наведіть приклад корисного aggregate запиту для колекції restaurants та поясніть його.\n",
    "```\n",
    "```\n",
    "```\n",
    "```\n",
    "```\n",
    "```\n",
    "```\n",
    "Максимальна оцінка: 6 балів\n",
    "Рекомендований час: 10хв\n",
    "```"
   ]
  },
  {
   "cell_type": "code",
   "execution_count": null,
   "metadata": {
    "collapsed": true
   },
   "outputs": [],
   "source": []
  }
 ],
 "metadata": {
  "kernelspec": {
   "display_name": "Python 3",
   "language": "python",
   "name": "python3"
  },
  "language_info": {
   "codemirror_mode": {
    "name": "ipython",
    "version": 3
   },
   "file_extension": ".py",
   "mimetype": "text/x-python",
   "name": "python",
   "nbconvert_exporter": "python",
   "pygments_lexer": "ipython3",
   "version": "3.6.1"
  }
 },
 "nbformat": 4,
 "nbformat_minor": 2
}
